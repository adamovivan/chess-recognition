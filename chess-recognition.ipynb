{
 "cells": [
  {
   "cell_type": "code",
   "execution_count": 976,
   "metadata": {},
   "outputs": [],
   "source": [
    "import cv2\n",
    "import numpy as np\n",
    "from matplotlib import pyplot as plt\n",
    "%matplotlib inline"
   ]
  },
  {
   "cell_type": "code",
   "execution_count": 977,
   "metadata": {},
   "outputs": [],
   "source": [
    "def find_intersections(h, v):\n",
    "    \"\"\"\n",
    "    Given lists of horizontal and vertical lines in (rho, theta) form, returns list\n",
    "    of (x, y) intersection points.\n",
    "    \"\"\"\n",
    "    points = []\n",
    "    for d1, a1 in h:\n",
    "        for d2, a2 in v:\n",
    "            A = np.array([[np.cos(a1), np.sin(a1)], [np.cos(a2), np.sin(a2)]])\n",
    "            b = np.array([d1, d2])\n",
    "            point = np.linalg.solve(A, b)\n",
    "            points.append(point)\n",
    "    return points\n",
    "\n",
    "def draw_intersections(img, intersections):\n",
    "    for i in range(len(intersections)):\n",
    "        for row,col in intersections:\n",
    "#             cv2.circle(img,(row, col), 5, (0,255,0), -1)\n",
    "            \n",
    "            font                   = cv2.FONT_HERSHEY_SIMPLEX\n",
    "            position    = (row,col)\n",
    "            fontScale              = 0.8\n",
    "            fontColor              = (255,255,255)\n",
    "            lineType               = 2\n",
    "\n",
    "            cv2.putText(img,str(int(row)) + \"|\" + str(int(col)), \n",
    "            position, \n",
    "            font, \n",
    "            fontScale,\n",
    "            fontColor,\n",
    "            lineType)\n",
    "    \n",
    "    plt.imshow(img)"
   ]
  },
  {
   "cell_type": "code",
   "execution_count": 978,
   "metadata": {},
   "outputs": [],
   "source": [
    "def hor_vert_lines(lines):\n",
    "    \"\"\"\n",
    "    A line is given by rho and theta. Given a list of lines, returns a list of\n",
    "    horizontal lines (theta=90 deg) and a list of vertical lines (theta=0 deg).\n",
    "    \"\"\"\n",
    "    h = []\n",
    "    v = []\n",
    "    for i in range(len(lines)):\n",
    "        distance, angle = lines[i][0]\n",
    "        if angle < np.pi/6 or angle > np.pi-np.pi/6:\n",
    "            v.append([distance, angle])\n",
    "        elif angle > np.pi/3 and angle < np.pi-np.pi/3:\n",
    "            h.append([distance, angle])\n",
    "    return h, v"
   ]
  },
  {
   "cell_type": "code",
   "execution_count": 979,
   "metadata": {},
   "outputs": [],
   "source": [
    "def find_edges(img):\n",
    "    gray = cv2.cvtColor(img,cv2.COLOR_BGR2GRAY)\n",
    "    edges = cv2.Canny(gray,250,200)\n",
    "    return edges\n",
    "\n",
    "def draw_edges(edges):\n",
    "    plt.imshow(edges,cmap = 'gray')"
   ]
  },
  {
   "cell_type": "code",
   "execution_count": 980,
   "metadata": {},
   "outputs": [],
   "source": [
    "def find_lines(edges):\n",
    "    lines = cv2.HoughLines(edges,1,np.pi/180,200)\n",
    "    \n",
    "    for i in range(len(lines)):\n",
    "        distance, angle = lines[i][0]\n",
    "        \n",
    "        if distance < 0:\n",
    "            lines[i][0][0] = abs(distance)\n",
    "            lines[i][0][1] = lines[i][0][1] - np.pi\n",
    "            \n",
    "    return lines\n",
    "\n",
    "def draw_lines(img, lines):\n",
    "    for rho,theta in lines:\n",
    "        a = np.cos(theta)\n",
    "        b = np.sin(theta)\n",
    "        x0 = a*rho\n",
    "        y0 = b*rho\n",
    "        x1 = int(x0 + 2000*(-b))\n",
    "        y1 = int(y0 + 2000*(a))\n",
    "        x2 = int(x0 - 2000*(-b))\n",
    "        y2 = int(y0 - 2000*(a))\n",
    "\n",
    "        cv2.line(img,(x1,y1),(x2,y2),(0,0,255),2)\n",
    "\n",
    "    plt.imshow(img)"
   ]
  },
  {
   "cell_type": "code",
   "execution_count": 981,
   "metadata": {},
   "outputs": [],
   "source": [
    "def remove_lines_outliers(lines, threshold):\n",
    "    '''\n",
    "        threshold - max distance between two lines\n",
    "    '''\n",
    "    lines.sort(key=lambda element: element[0])\n",
    "    \n",
    "    segmented_lines = []\n",
    "    segmented_lines.append([lines[0]])\n",
    "    \n",
    "    index = 0\n",
    "    for i in range(len(lines)-1):\n",
    "        rho, _ = lines[i]\n",
    "        rho1, _ = lines[i+1]\n",
    "        \n",
    "        if abs(rho-rho1) < threshold:\n",
    "            segmented_lines[index].append(lines[i+1])\n",
    "        else:\n",
    "            index += 1\n",
    "            segmented_lines.append([])\n",
    "            segmented_lines[index].append(lines[i+1])\n",
    "            \n",
    "    filtered = []\n",
    "    \n",
    "    for segment in segmented_lines:\n",
    "        filtered.append(segment[len(segment)//2])\n",
    "    \n",
    "    return filtered"
   ]
  },
  {
   "cell_type": "code",
   "execution_count": 982,
   "metadata": {},
   "outputs": [],
   "source": [
    "def get_board_lines(hor_lines, vert_lines):\n",
    "    return hor_lines[1:-1], vert_lines[1:-1]"
   ]
  },
  {
   "cell_type": "code",
   "execution_count": 983,
   "metadata": {},
   "outputs": [],
   "source": [
    "def get_squares(corners): \n",
    "    squares = []\n",
    "    \n",
    "    col = 0\n",
    "    row = 0\n",
    "    \n",
    "    squares_cnt = 0\n",
    "    for i in range(len(corners)-9-1):\n",
    "        \n",
    "        if squares_cnt == 8:\n",
    "            squares_cnt = 0\n",
    "            continue\n",
    "            \n",
    "        top_left = corners[i]\n",
    "        top_right = corners[i+1]\n",
    "        bottom_left = corners[i+9]\n",
    "        bottom_right = corners[i+9+1]\n",
    "        \n",
    "        square = [top_left, top_right, bottom_left, bottom_right]\n",
    "        squares.append(square)\n",
    "        \n",
    "        squares_cnt += 1\n",
    "        \n",
    "    return squares"
   ]
  },
  {
   "cell_type": "code",
   "execution_count": 984,
   "metadata": {},
   "outputs": [],
   "source": [
    "def get_square_image(img, square):\n",
    "    crop_img = img[int(square[0][1]):int(square[2][1]), int(square[0][0]):int(square[1][0])]\n",
    "    plt.imshow(crop_img)"
   ]
  },
  {
   "cell_type": "code",
   "execution_count": 985,
   "metadata": {},
   "outputs": [
    {
     "data": {
      "text/plain": [
       "True"
      ]
     },
     "execution_count": 985,
     "metadata": {},
     "output_type": "execute_result"
    },
    {
     "data": {
      "image/png": "[encoded data removed]",
      "text/plain": [
       "<Figure size 432x288 with 1 Axes>"
      ]
     },
     "metadata": {
      "needs_background": "light"
     },
     "output_type": "display_data"
    }
   ],
   "source": [
    "# img = cv2.imread(r'pictures_test\\figure_sa_strane.jpg')\n",
    "# img = cv2.imread(r'pictures_test\\figure_od_gore.jpg')\n",
    "# img = cv2.imread(r'pictures_test\\slike\\tabla.jpg')\n",
    "img = cv2.imread(r'pictures_test\\slike\\sa_figurama3.jpg')\n",
    "\n",
    "edges = find_edges(img)\n",
    "\n",
    "plt.subplot(121)\n",
    "draw_edges(edges)\n",
    "cv2.imwrite('edges.jpg',edges)\n",
    "\n",
    "lines = find_lines(edges)\n",
    "hor_lines, vert_lines = hor_vert_lines(lines)\n",
    "\n",
    "filtered_hor_lines = remove_lines_outliers(hor_lines, 25)\n",
    "filtered_vert_lines = remove_lines_outliers(vert_lines, 25)\n",
    "\n",
    "board_hor_lines, board_vert_lines = get_board_lines(filtered_hor_lines, filtered_vert_lines)\n",
    "\n",
    "intersections = find_intersections(board_hor_lines, board_vert_lines)\n",
    "squares = get_squares(intersections)\n",
    "get_square_image(img, squares[62])\n",
    "# draw_lines(img, board_hor_lines)\n",
    "# draw_lines(img, board_vert_lines)\n",
    "# draw_intersections(img, intersections)\n",
    "\n",
    "cv2.imwrite('houghlines3.jpg',img)\n"
   ]
  },
  {
   "cell_type": "code",
   "execution_count": null,
   "metadata": {},
   "outputs": [],
   "source": []
  },
  {
   "cell_type": "code",
   "execution_count": null,
   "metadata": {},
   "outputs": [],
   "source": []
  }
 ],
 "metadata": {
  "kernelspec": {
   "display_name": "Python 3",
   "language": "python",
   "name": "python3"
  },
  "language_info": {
   "codemirror_mode": {
    "name": "ipython",
    "version": 3
   },
   "file_extension": ".py",
   "mimetype": "text/x-python",
   "name": "python",
   "nbconvert_exporter": "python",
   "pygments_lexer": "ipython3",
   "version": "3.5.6"
  }
 },
 "nbformat": 4,
 "nbformat_minor": 2
}
